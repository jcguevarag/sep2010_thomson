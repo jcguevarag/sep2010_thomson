{
 "cells": [
  {
   "cell_type": "code",
   "execution_count": 1,
   "metadata": {},
   "outputs": [],
   "source": [
    "import matplotlib\n",
    "import matplotlib.pyplot as plt\n",
    "import urllib.request\n",
    "import numpy as np\n",
    "import math\n",
    "import peakutils\n",
    "import math\n",
    "import time,os,sys\n",
    "import datetime\n",
    "import matplotlib.dates as mdates\n",
    "from os import listdir\n",
    "from os.path import isfile, join\n",
    "import numpy.ma as ma\n",
    "import sunpy\n",
    "import sunpy.map\n",
    "from sunpy.timeseries import TimeSeries\n",
    "from sunpy.time import TimeRange, parse_time\n",
    "from sunpy.net import hek, Fido, attrs as a\n",
    "import astropy.units as u\n",
    "from astropy.coordinates import SkyCoord\n",
    "import pickle\n",
    "import warnings\n",
    "from scipy import stats\n",
    "import copy\n",
    "import imageio\n",
    "\n",
    "import pandas as pd\n",
    "import seaborn as sns\n",
    "import matplotlib.animation as animation\n",
    "%matplotlib notebook"
   ]
  },
  {
   "cell_type": "code",
   "execution_count": 2,
   "metadata": {},
   "outputs": [
    {
     "name": "stdout",
     "output_type": "stream",
     "text": [
      "15.908852022741966 22.85271323006321\n"
     ]
    },
    {
     "name": "stderr",
     "output_type": "stream",
     "text": [
      "/Users/juancg/anaconda3/lib/python3.6/site-packages/ipykernel_launcher.py:2: RuntimeWarning: invalid value encountered in less_equal\n",
      "  \n"
     ]
    }
   ],
   "source": [
    "Ne = np.load('Ne_v6.npy')\n",
    "Ne[Ne<=0]=np.nan\n",
    "times = np.load('times_v6.npy')\n",
    "\n",
    "Ne_log10 = np.array([np.log10(ne) for ne in Ne])\n",
    "\n",
    "Ne_min = np.nanmin(Ne_log10)\n",
    "Ne_max = np.nanmax(Ne_log10)\n",
    "levels = np.linspace(Ne_min,Ne_max,70)\n",
    "print(Ne_min,Ne_max)\n",
    "\n",
    "tiempos = np.array([datetime.datetime.strftime(t,'%Y-%m-%d %H:%M:%S') for t in times])"
   ]
  },
  {
   "cell_type": "code",
   "execution_count": 6,
   "metadata": {},
   "outputs": [
    {
     "name": "stdout",
     "output_type": "stream",
     "text": [
      "0\n",
      "0\n",
      "1\n",
      "2\n",
      "3\n",
      "4\n",
      "5\n",
      "6\n",
      "7\n",
      "8\n",
      "9\n",
      "10\n",
      "11\n",
      "12\n",
      "13\n",
      "14\n",
      "15\n",
      "16\n",
      "17\n",
      "18\n",
      "19\n",
      "20\n",
      "21\n",
      "22\n",
      "23\n",
      "24\n",
      "25\n",
      "26\n",
      "27\n",
      "28\n",
      "29\n",
      "30\n",
      "31\n",
      "32\n",
      "33\n",
      "34\n",
      "35\n",
      "36\n",
      "37\n",
      "38\n",
      "39\n",
      "40\n",
      "41\n",
      "42\n",
      "43\n",
      "44\n",
      "45\n",
      "46\n",
      "47\n",
      "48\n",
      "49\n",
      "50\n",
      "51\n",
      "52\n",
      "53\n",
      "54\n",
      "55\n",
      "56\n",
      "57\n",
      "58\n",
      "59\n",
      "60\n",
      "61\n",
      "62\n",
      "63\n",
      "64\n",
      "65\n",
      "66\n",
      "67\n",
      "68\n",
      "69\n",
      "70\n",
      "71\n",
      "72\n",
      "73\n",
      "74\n",
      "75\n",
      "76\n",
      "77\n",
      "78\n",
      "79\n",
      "80\n",
      "81\n",
      "82\n",
      "83\n",
      "84\n",
      "85\n",
      "86\n",
      "87\n",
      "88\n",
      "89\n",
      "0\n"
     ]
    },
    {
     "data": {
      "image/png": "[encoded data removed]",
      "text/plain": [
       "<Figure size 432x288 with 2 Axes>"
      ]
     },
     "metadata": {
      "needs_background": "light"
     },
     "output_type": "display_data"
    }
   ],
   "source": [
    "Writer = animation.writers['ffmpeg']\n",
    "writer = Writer(fps=4, metadata=dict(artist='Me'), bitrate=9000)\n",
    "\n",
    "fig,ax = plt.subplots()\n",
    "\n",
    "def animate(i):\n",
    "    ax.clear()\n",
    "    im = ax.contourf(Ne_log10[i,:,:],levels, alpha=0.85, cmap=plt.cm.rainbow, origin='lower')\n",
    "    ax.set_title('%s'%(tiempos[i]))\n",
    "    ax.set_xlabel(r'Pixels')\n",
    "    ax.set_ylabel(r'Pixels')\n",
    "\n",
    "cbar = plt.colorbar(ax.contourf(Ne_log10[0,:,:],levels, alpha=0.85, cmap=plt.cm.rainbow, origin='lower'))\n",
    "cbar.ax.set_ylabel(r'Logaritmic square density')\n",
    "# plt.tight_layout()\n",
    "interval = 1#in seconds     \n",
    "ani = animation.FuncAnimation(fig,animate,len(Ne_log10),interval=interval*1e+3,blit=False)\n",
    "ani.save('densities.mp4', writer = writer,dpi=300)\n",
    "\n",
    "\n",
    "plt.show()"
   ]
  }
 ],
 "metadata": {
  "kernelspec": {
   "display_name": "Python 3",
   "language": "python",
   "name": "python3"
  },
  "language_info": {
   "codemirror_mode": {
    "name": "ipython",
    "version": 3
   },
   "file_extension": ".py",
   "mimetype": "text/x-python",
   "name": "python",
   "nbconvert_exporter": "python",
   "pygments_lexer": "ipython3",
   "version": "3.6.7"
  }
 },
 "nbformat": 4,
 "nbformat_minor": 2
}
